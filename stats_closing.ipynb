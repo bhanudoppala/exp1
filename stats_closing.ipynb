{
 "cells": [
  {
   "cell_type": "markdown",
   "id": "93745ba7",
   "metadata": {},
   "source": [
    "### Understanding Descriptive Statistics\n",
    "Descriptive statistics is about describing and summarizing data. It uses two main approaches:\n",
    "1. The quantitative approach describes and summarizes data numerically.\n",
    "2. The visual approach illustrates data with charts, plots, histograms, and other graphs.\n",
    "\n",
    "#### Types of Measures\n",
    "\n",
    "##### Central tendency\n",
    "tells you about the centers of the data. Useful measures include the mean, median, and mode.\n",
    "\n",
    "##### Variability\n",
    "tells you about the spread of the data. Useful measures include variance and standard deviation.\n",
    "\n",
    "##### Correlation or joint variability\n",
    "tells you about the relation between a pair of variables in a dataset. Usefulmeasures include covariance and the\n",
    "correlation coefficient.\n",
    "\n",
    "##### An outlier is a data point that diff ers significantly from the majority of the data taken from a sample or population. There are many possible causes of outliers, but here are a few to start you off :\n",
    "\n",
    "1. Natural variation in data\n",
    "2. Change in the behavior of the observed system\n",
    "3. Errors in data collection\n",
    "\n",
    "##### Libraries for Stats\n",
    "\n",
    "1. import math\n",
    "2. import statistics\n",
    "3. import numpy\n",
    "4. import scipy.stats\n",
    "5. import pandas"
   ]
  },
  {
   "cell_type": "code",
   "execution_count": 1,
   "id": "1ed02206",
   "metadata": {},
   "outputs": [
    {
     "data": {
      "text/plain": [
       "array([[10, 20, 40],\n",
       "       [60, 70, 80],\n",
       "       [30, 50, 90]])"
      ]
     },
     "execution_count": 1,
     "metadata": {},
     "output_type": "execute_result"
    }
   ],
   "source": [
    "#Finding mean value with any of these\n",
    "import numpy as np\n",
    "# Creating a numpy array for stats\n",
    "a = np.array([[10,20,40],[60,70,80],[30,50,90]])\n",
    "a"
   ]
  },
  {
   "cell_type": "code",
   "execution_count": 2,
   "id": "29528c43",
   "metadata": {},
   "outputs": [
    {
     "data": {
      "text/plain": [
       "50.0"
      ]
     },
     "execution_count": 2,
     "metadata": {},
     "output_type": "execute_result"
    }
   ],
   "source": [
    "np.mean(a)"
   ]
  },
  {
   "cell_type": "code",
   "execution_count": 3,
   "id": "b91f2283",
   "metadata": {},
   "outputs": [
    {
     "data": {
      "text/plain": [
       "50.0"
      ]
     },
     "execution_count": 3,
     "metadata": {},
     "output_type": "execute_result"
    }
   ],
   "source": [
    "np.average(a)"
   ]
  },
  {
   "cell_type": "code",
   "execution_count": 9,
   "id": "fa30d279",
   "metadata": {},
   "outputs": [],
   "source": [
    "#creating a weighted values for the array\n",
    "w = [2,3,4]"
   ]
  },
  {
   "cell_type": "code",
   "execution_count": 12,
   "id": "f10f36ce",
   "metadata": {},
   "outputs": [
    {
     "data": {
      "text/plain": [
       "array([26.66666667, 72.22222222, 63.33333333])"
      ]
     },
     "execution_count": 12,
     "metadata": {},
     "output_type": "execute_result"
    }
   ],
   "source": [
    "#need to provide axis because it cant take 3 elements for 9 elements in array\n",
    "#row weighted average \n",
    "np.average(a,weights=w,axis=1)"
   ]
  },
  {
   "cell_type": "code",
   "execution_count": 13,
   "id": "acdf54d9",
   "metadata": {},
   "outputs": [],
   "source": [
    "import pandas as pd"
   ]
  },
  {
   "cell_type": "code",
   "execution_count": 14,
   "id": "fc47893e",
   "metadata": {},
   "outputs": [
    {
     "data": {
      "text/html": [
       "<div>\n",
       "<style scoped>\n",
       "    .dataframe tbody tr th:only-of-type {\n",
       "        vertical-align: middle;\n",
       "    }\n",
       "\n",
       "    .dataframe tbody tr th {\n",
       "        vertical-align: top;\n",
       "    }\n",
       "\n",
       "    .dataframe thead th {\n",
       "        text-align: right;\n",
       "    }\n",
       "</style>\n",
       "<table border=\"1\" class=\"dataframe\">\n",
       "  <thead>\n",
       "    <tr style=\"text-align: right;\">\n",
       "      <th></th>\n",
       "      <th>age</th>\n",
       "      <th>height_cm</th>\n",
       "      <th>weight_kg</th>\n",
       "      <th>body fat_%</th>\n",
       "      <th>diastolic</th>\n",
       "      <th>systolic</th>\n",
       "      <th>gripForce</th>\n",
       "      <th>sit and bend forward_cm</th>\n",
       "      <th>sit-ups counts</th>\n",
       "      <th>broad jump_cm</th>\n",
       "    </tr>\n",
       "  </thead>\n",
       "  <tbody>\n",
       "    <tr>\n",
       "      <th>0</th>\n",
       "      <td>27.0</td>\n",
       "      <td>172.3</td>\n",
       "      <td>75.24</td>\n",
       "      <td>21.3</td>\n",
       "      <td>80.0</td>\n",
       "      <td>130.0</td>\n",
       "      <td>54.9</td>\n",
       "      <td>18.4</td>\n",
       "      <td>60.0</td>\n",
       "      <td>217.0</td>\n",
       "    </tr>\n",
       "    <tr>\n",
       "      <th>1</th>\n",
       "      <td>25.0</td>\n",
       "      <td>165.0</td>\n",
       "      <td>55.80</td>\n",
       "      <td>15.7</td>\n",
       "      <td>77.0</td>\n",
       "      <td>126.0</td>\n",
       "      <td>36.4</td>\n",
       "      <td>16.3</td>\n",
       "      <td>53.0</td>\n",
       "      <td>229.0</td>\n",
       "    </tr>\n",
       "    <tr>\n",
       "      <th>2</th>\n",
       "      <td>31.0</td>\n",
       "      <td>179.6</td>\n",
       "      <td>78.00</td>\n",
       "      <td>20.1</td>\n",
       "      <td>92.0</td>\n",
       "      <td>152.0</td>\n",
       "      <td>44.8</td>\n",
       "      <td>12.0</td>\n",
       "      <td>49.0</td>\n",
       "      <td>181.0</td>\n",
       "    </tr>\n",
       "    <tr>\n",
       "      <th>3</th>\n",
       "      <td>32.0</td>\n",
       "      <td>174.5</td>\n",
       "      <td>71.10</td>\n",
       "      <td>18.4</td>\n",
       "      <td>76.0</td>\n",
       "      <td>147.0</td>\n",
       "      <td>41.4</td>\n",
       "      <td>15.2</td>\n",
       "      <td>53.0</td>\n",
       "      <td>219.0</td>\n",
       "    </tr>\n",
       "    <tr>\n",
       "      <th>4</th>\n",
       "      <td>28.0</td>\n",
       "      <td>173.8</td>\n",
       "      <td>67.70</td>\n",
       "      <td>17.1</td>\n",
       "      <td>70.0</td>\n",
       "      <td>127.0</td>\n",
       "      <td>43.5</td>\n",
       "      <td>27.1</td>\n",
       "      <td>45.0</td>\n",
       "      <td>217.0</td>\n",
       "    </tr>\n",
       "    <tr>\n",
       "      <th>...</th>\n",
       "      <td>...</td>\n",
       "      <td>...</td>\n",
       "      <td>...</td>\n",
       "      <td>...</td>\n",
       "      <td>...</td>\n",
       "      <td>...</td>\n",
       "      <td>...</td>\n",
       "      <td>...</td>\n",
       "      <td>...</td>\n",
       "      <td>...</td>\n",
       "    </tr>\n",
       "    <tr>\n",
       "      <th>13388</th>\n",
       "      <td>25.0</td>\n",
       "      <td>172.1</td>\n",
       "      <td>71.80</td>\n",
       "      <td>16.2</td>\n",
       "      <td>74.0</td>\n",
       "      <td>141.0</td>\n",
       "      <td>35.8</td>\n",
       "      <td>17.4</td>\n",
       "      <td>47.0</td>\n",
       "      <td>198.0</td>\n",
       "    </tr>\n",
       "    <tr>\n",
       "      <th>13389</th>\n",
       "      <td>21.0</td>\n",
       "      <td>179.7</td>\n",
       "      <td>63.90</td>\n",
       "      <td>12.1</td>\n",
       "      <td>74.0</td>\n",
       "      <td>128.0</td>\n",
       "      <td>33.0</td>\n",
       "      <td>1.1</td>\n",
       "      <td>48.0</td>\n",
       "      <td>167.0</td>\n",
       "    </tr>\n",
       "    <tr>\n",
       "      <th>13390</th>\n",
       "      <td>39.0</td>\n",
       "      <td>177.2</td>\n",
       "      <td>80.50</td>\n",
       "      <td>20.1</td>\n",
       "      <td>78.0</td>\n",
       "      <td>132.0</td>\n",
       "      <td>63.5</td>\n",
       "      <td>16.4</td>\n",
       "      <td>45.0</td>\n",
       "      <td>229.0</td>\n",
       "    </tr>\n",
       "    <tr>\n",
       "      <th>13391</th>\n",
       "      <td>64.0</td>\n",
       "      <td>146.1</td>\n",
       "      <td>57.70</td>\n",
       "      <td>40.4</td>\n",
       "      <td>68.0</td>\n",
       "      <td>121.0</td>\n",
       "      <td>19.3</td>\n",
       "      <td>9.2</td>\n",
       "      <td>0.0</td>\n",
       "      <td>75.0</td>\n",
       "    </tr>\n",
       "    <tr>\n",
       "      <th>13392</th>\n",
       "      <td>34.0</td>\n",
       "      <td>164.0</td>\n",
       "      <td>66.10</td>\n",
       "      <td>19.5</td>\n",
       "      <td>82.0</td>\n",
       "      <td>150.0</td>\n",
       "      <td>35.9</td>\n",
       "      <td>7.1</td>\n",
       "      <td>51.0</td>\n",
       "      <td>180.0</td>\n",
       "    </tr>\n",
       "  </tbody>\n",
       "</table>\n",
       "<p>13393 rows × 10 columns</p>\n",
       "</div>"
      ],
      "text/plain": [
       "        age  height_cm  weight_kg  body fat_%  diastolic  systolic  gripForce  \\\n",
       "0      27.0      172.3      75.24        21.3       80.0     130.0       54.9   \n",
       "1      25.0      165.0      55.80        15.7       77.0     126.0       36.4   \n",
       "2      31.0      179.6      78.00        20.1       92.0     152.0       44.8   \n",
       "3      32.0      174.5      71.10        18.4       76.0     147.0       41.4   \n",
       "4      28.0      173.8      67.70        17.1       70.0     127.0       43.5   \n",
       "...     ...        ...        ...         ...        ...       ...        ...   \n",
       "13388  25.0      172.1      71.80        16.2       74.0     141.0       35.8   \n",
       "13389  21.0      179.7      63.90        12.1       74.0     128.0       33.0   \n",
       "13390  39.0      177.2      80.50        20.1       78.0     132.0       63.5   \n",
       "13391  64.0      146.1      57.70        40.4       68.0     121.0       19.3   \n",
       "13392  34.0      164.0      66.10        19.5       82.0     150.0       35.9   \n",
       "\n",
       "       sit and bend forward_cm  sit-ups counts  broad jump_cm  \n",
       "0                         18.4            60.0          217.0  \n",
       "1                         16.3            53.0          229.0  \n",
       "2                         12.0            49.0          181.0  \n",
       "3                         15.2            53.0          219.0  \n",
       "4                         27.1            45.0          217.0  \n",
       "...                        ...             ...            ...  \n",
       "13388                     17.4            47.0          198.0  \n",
       "13389                      1.1            48.0          167.0  \n",
       "13390                     16.4            45.0          229.0  \n",
       "13391                      9.2             0.0           75.0  \n",
       "13392                      7.1            51.0          180.0  \n",
       "\n",
       "[13393 rows x 10 columns]"
      ]
     },
     "execution_count": 14,
     "metadata": {},
     "output_type": "execute_result"
    }
   ],
   "source": [
    "df = pd.read_csv('bodyPerformance.csv')\n",
    "#Bring out the whole numberical data\n",
    "num_data = df.select_dtypes(exclude='object')\n",
    "num_data"
   ]
  },
  {
   "cell_type": "code",
   "execution_count": 39,
   "id": "0bfbe2fb",
   "metadata": {},
   "outputs": [
    {
     "data": {
      "text/plain": [
       "age                        0\n",
       "height_cm                  0\n",
       "weight_kg                  0\n",
       "body fat_%                 0\n",
       "diastolic                  0\n",
       "systolic                   0\n",
       "gripForce                  0\n",
       "sit and bend forward_cm    0\n",
       "sit-ups counts             0\n",
       "broad jump_cm              0\n",
       "dtype: int64"
      ]
     },
     "execution_count": 39,
     "metadata": {},
     "output_type": "execute_result"
    }
   ],
   "source": [
    "num_data.isna().sum()"
   ]
  },
  {
   "cell_type": "code",
   "execution_count": 15,
   "id": "3e21a3b5",
   "metadata": {},
   "outputs": [
    {
     "data": {
      "text/plain": [
       "age                         36.775106\n",
       "height_cm                  168.559807\n",
       "weight_kg                   67.447316\n",
       "body fat_%                  23.240165\n",
       "diastolic                   78.796842\n",
       "systolic                   130.234817\n",
       "gripForce                   36.963877\n",
       "sit and bend forward_cm     15.209268\n",
       "sit-ups counts              39.771224\n",
       "broad jump_cm              190.129627\n",
       "dtype: float64"
      ]
     },
     "execution_count": 15,
     "metadata": {},
     "output_type": "execute_result"
    }
   ],
   "source": [
    "#stat functions on numerical data\n",
    "num_data.mean()"
   ]
  },
  {
   "cell_type": "code",
   "execution_count": 20,
   "id": "6c2f82be",
   "metadata": {},
   "outputs": [
    {
     "data": {
      "text/plain": [
       "78.79684163368923"
      ]
     },
     "execution_count": 20,
     "metadata": {},
     "output_type": "execute_result"
    }
   ],
   "source": [
    "num_data['diastolic'].mean()"
   ]
  },
  {
   "cell_type": "code",
   "execution_count": 21,
   "id": "fa977736",
   "metadata": {},
   "outputs": [
    {
     "data": {
      "text/plain": [
       "78.79684163368923"
      ]
     },
     "execution_count": 21,
     "metadata": {},
     "output_type": "execute_result"
    }
   ],
   "source": [
    "num_data.diastolic.mean()"
   ]
  },
  {
   "cell_type": "code",
   "execution_count": 18,
   "id": "7b19a940",
   "metadata": {},
   "outputs": [
    {
     "data": {
      "text/plain": [
       "23.240164950869843"
      ]
     },
     "execution_count": 18,
     "metadata": {},
     "output_type": "execute_result"
    }
   ],
   "source": [
    "num_data['body fat_%'].mean()"
   ]
  },
  {
   "cell_type": "code",
   "execution_count": 19,
   "id": "415fd408",
   "metadata": {},
   "outputs": [
    {
     "ename": "SyntaxError",
     "evalue": "invalid syntax (Temp/ipykernel_12424/2597750637.py, line 1)",
     "output_type": "error",
     "traceback": [
      "\u001b[1;36m  File \u001b[1;32m\"C:\\Users\\TIGBUG\\AppData\\Local\\Temp/ipykernel_12424/2597750637.py\"\u001b[1;36m, line \u001b[1;32m1\u001b[0m\n\u001b[1;33m    num_data.body fat_%.mean()\u001b[0m\n\u001b[1;37m                  ^\u001b[0m\n\u001b[1;31mSyntaxError\u001b[0m\u001b[1;31m:\u001b[0m invalid syntax\n"
     ]
    }
   ],
   "source": [
    "# make sure the naming conventions important while passing most of the time single words.\n",
    "num_data.body fat_%.mean()"
   ]
  },
  {
   "cell_type": "code",
   "execution_count": 24,
   "id": "d1441100",
   "metadata": {},
   "outputs": [],
   "source": [
    "#finding the same mean with stats library\n",
    "import statistics as st"
   ]
  },
  {
   "cell_type": "code",
   "execution_count": 25,
   "id": "7138e188",
   "metadata": {},
   "outputs": [
    {
     "data": {
      "text/plain": [
       "23.240164950869858"
      ]
     },
     "execution_count": 25,
     "metadata": {},
     "output_type": "execute_result"
    }
   ],
   "source": [
    "st.mean(num_data['body fat_%'])"
   ]
  },
  {
   "cell_type": "code",
   "execution_count": 28,
   "id": "55ec0afa",
   "metadata": {},
   "outputs": [
    {
     "data": {
      "text/plain": [
       "20.766092233445065"
      ]
     },
     "execution_count": 28,
     "metadata": {},
     "output_type": "execute_result"
    }
   ],
   "source": [
    "st.harmonic_mean(num_data['body fat_%'])"
   ]
  },
  {
   "cell_type": "code",
   "execution_count": 29,
   "id": "7537156f",
   "metadata": {},
   "outputs": [
    {
     "data": {
      "text/plain": [
       "22.053450257160534"
      ]
     },
     "execution_count": 29,
     "metadata": {},
     "output_type": "execute_result"
    }
   ],
   "source": [
    "st.geometric_mean(num_data['body fat_%'])"
   ]
  },
  {
   "cell_type": "code",
   "execution_count": 30,
   "id": "681ff40c",
   "metadata": {},
   "outputs": [],
   "source": [
    "#finding the same mean with stats library\n",
    "import scipy.stats as sc"
   ]
  },
  {
   "cell_type": "code",
   "execution_count": 31,
   "id": "a229709f",
   "metadata": {},
   "outputs": [
    {
     "data": {
      "text/plain": [
       "22.053450257160534"
      ]
     },
     "execution_count": 31,
     "metadata": {},
     "output_type": "execute_result"
    }
   ],
   "source": [
    "sc.gmean(num_data['body fat_%'])"
   ]
  },
  {
   "cell_type": "code",
   "execution_count": 32,
   "id": "7bdbe748",
   "metadata": {},
   "outputs": [
    {
     "data": {
      "text/plain": [
       "20.766092233445065"
      ]
     },
     "execution_count": 32,
     "metadata": {},
     "output_type": "execute_result"
    }
   ],
   "source": [
    "sc.hmean(num_data['body fat_%'])"
   ]
  },
  {
   "cell_type": "code",
   "execution_count": 34,
   "id": "321d7daf",
   "metadata": {},
   "outputs": [
    {
     "data": {
      "text/plain": [
       "52.66178600041373"
      ]
     },
     "execution_count": 34,
     "metadata": {},
     "output_type": "execute_result"
    }
   ],
   "source": [
    "st.variance(num_data['body fat_%'])"
   ]
  },
  {
   "cell_type": "code",
   "execution_count": 35,
   "id": "5e0f6f60",
   "metadata": {},
   "outputs": [
    {
     "data": {
      "text/plain": [
       "7.256844079929906"
      ]
     },
     "execution_count": 35,
     "metadata": {},
     "output_type": "execute_result"
    }
   ],
   "source": [
    "st.stdev(num_data['body fat_%'])"
   ]
  },
  {
   "cell_type": "code",
   "execution_count": 36,
   "id": "9240f2cb",
   "metadata": {},
   "outputs": [
    {
     "data": {
      "text/plain": [
       "[18.0, 22.8, 28.0]"
      ]
     },
     "execution_count": 36,
     "metadata": {},
     "output_type": "execute_result"
    }
   ],
   "source": [
    "st.quantiles(num_data['body fat_%'])"
   ]
  },
  {
   "cell_type": "code",
   "execution_count": null,
   "id": "3e5af597",
   "metadata": {},
   "outputs": [],
   "source": []
  }
 ],
 "metadata": {
  "kernelspec": {
   "display_name": "Python 3 (ipykernel)",
   "language": "python",
   "name": "python3"
  },
  "language_info": {
   "codemirror_mode": {
    "name": "ipython",
    "version": 3
   },
   "file_extension": ".py",
   "mimetype": "text/x-python",
   "name": "python",
   "nbconvert_exporter": "python",
   "pygments_lexer": "ipython3",
   "version": "3.9.7"
  }
 },
 "nbformat": 4,
 "nbformat_minor": 5
}
